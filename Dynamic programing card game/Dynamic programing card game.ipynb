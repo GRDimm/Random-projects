{
 "cells": [
  {
   "cell_type": "markdown",
   "id": "d39f4599-bcbd-4683-addd-4d3baebf29a8",
   "metadata": {},
   "source": [
    "### Dynamic card game\n",
    "\n",
    "A casino offers yet another card game with the standard 52 cards (26 red, 26 black). The cards are thoroughly shuffled and the dealer draws cards one by one. (Drawn cards are not returned to the deck.) You can ask the dealer to stop at any time you like. For each red card drawn, you win 1 dollar; for each black card drawn, you lose 1 dollar. What is the optimal stopping rule in terms of maximizing expected payoff and how much are you willing to pay for this game?\r\n"
   ]
  },
  {
   "cell_type": "markdown",
   "id": "4cc57f0d-0cdd-4981-a82a-488c4421a18a",
   "metadata": {},
   "source": [
    "### Solution:\r\n",
    "Let $b$, $r$ represent the number of black and red cards left in the deck, respectively. By symmetry, we have:\r\n",
    "\r\n",
    "$$\r\n",
    "\\text{red cards drawn} - \\text{black cards drawn} = \\text{black cards left} - \\text{red cards left} = b - r\r\n",
    "$$\r\n",
    "\r\n",
    "At each $(b, r)$, we face the decision whether to stop or keep on playing. If we ask the dealer to stop at $(b, r)$, the payoff is $b - r$. If we keep on going, there is\r\n",
    "\r\n",
    "$$\r\n",
    "\\frac{b}{b + r}\r\n",
    "$$\r\n",
    "\r\n",
    "probability that the next card will be black—in which case the state changes to $(b-1, r)$—and\r\n",
    "\r\n",
    "$$\r\n",
    "\\frac{r}{b + r}\r\n",
    "$$\r\n",
    "\r\n",
    "probability that the next card will be red—in which case the state changes to $(b, r-1)$. We will stop if and only if the expected payoff of drawing more cards is less than $b - r$. That also gives us the system equation:\r\n",
    "\r\n",
    "$E(f(b, r)) = \\max \\left( b - r, \\frac{b}{b + r} E(f(b-1, r)) + \\frac{r}{b + r} E(f(b, r-1)) \\right)$\r\n",
    "\r\n",
    "Using the boundary conditions $f(0, r) = r$, $f(b, 0) = -b$, for $b, r = 0, 1, \\dots, 26$, and the system equation for $E(f(b, r))$, we can recursively calculate $E(f(b, r))$ for all pairs of $b$ and $r$."
   ]
  },
  {
   "cell_type": "code",
   "execution_count": 18,
   "id": "4ba6f78e-a1e7-4d56-85df-42106173664e",
   "metadata": {},
   "outputs": [
    {
     "data": {
      "text/plain": [
       "2.5727000787085017"
      ]
     },
     "execution_count": 18,
     "metadata": {},
     "output_type": "execute_result"
    }
   ],
   "source": [
    "import numpy as np\n",
    "def card_game_solution(N = 52):\n",
    "    red = N//2\n",
    "    black = N//2\n",
    "    dp = [[0 for _ in range(red)] for _ in range(black)]\n",
    "\n",
    "    for b in range(black):\n",
    "        dp[b][0] = b\n",
    "\n",
    "    for b in range(1, black):\n",
    "        for r in range(1, red):\n",
    "            dp[b][r] = max(b - r, (r/(r+b))*dp[b][r-1] + (b/(r+b))*dp[b-1][r])\n",
    "    return dp[black-1][red - 1]\n",
    "\n",
    "card_game_solution()"
   ]
  },
  {
   "cell_type": "code",
   "execution_count": null,
   "id": "b810624e-f807-47cb-be68-b718bf97a078",
   "metadata": {},
   "outputs": [],
   "source": []
  }
 ],
 "metadata": {
  "kernelspec": {
   "display_name": "Python 3 (ipykernel)",
   "language": "python",
   "name": "python3"
  },
  "language_info": {
   "codemirror_mode": {
    "name": "ipython",
    "version": 3
   },
   "file_extension": ".py",
   "mimetype": "text/x-python",
   "name": "python",
   "nbconvert_exporter": "python",
   "pygments_lexer": "ipython3",
   "version": "3.12.4"
  }
 },
 "nbformat": 4,
 "nbformat_minor": 5
}
